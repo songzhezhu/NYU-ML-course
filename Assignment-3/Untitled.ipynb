{
 "cells": [
  {
   "cell_type": "code",
   "execution_count": 1,
   "metadata": {},
   "outputs": [],
   "source": [
    "# Import the usual libraries\n",
    "import matplotlib.pyplot as plt # plotting utilities \n",
    "%matplotlib inline\n",
    "import numpy as np \n",
    "import math\n",
    "import operator\n",
    "from collections import Counter"
   ]
  },
  {
   "cell_type": "code",
   "execution_count": 21,
   "metadata": {},
   "outputs": [
    {
     "data": {
      "text/plain": [
       "matrix([[    1, 28540],\n",
       "        [    1, 40133],\n",
       "        [    1, 39900],\n",
       "        [    1, 42050],\n",
       "        [    1, 43220],\n",
       "        [    1, 39565],\n",
       "        [    1, 40400],\n",
       "        [    1, 54506]])"
      ]
     },
     "execution_count": 21,
     "metadata": {},
     "output_type": "execute_result"
    }
   ],
   "source": [
    "X = np.matrix([[1, 28540], [1, 40133], [1, 39900], [1, 42050], [1, 43220], [1, 39565], [1, 40400], [1, 54506]]\n",
    ")\n",
    "\n",
    "X"
   ]
  },
  {
   "cell_type": "code",
   "execution_count": 22,
   "metadata": {},
   "outputs": [
    {
     "data": {
      "text/plain": [
       "matrix([[137],\n",
       "        [135],\n",
       "        [127],\n",
       "        [118],\n",
       "        [118],\n",
       "        [117],\n",
       "        [117],\n",
       "        [114]])"
      ]
     },
     "execution_count": 22,
     "metadata": {},
     "output_type": "execute_result"
    }
   ],
   "source": [
    "y = np.matrix([[137], [135], [127], [118], [118], [117], [117], [114]])\n",
    "\n",
    "y"
   ]
  },
  {
   "cell_type": "code",
   "execution_count": 23,
   "metadata": {},
   "outputs": [
    {
     "data": {
      "text/plain": [
       "matrix([[ 1.60003922e+02],\n",
       "        [-9.04717354e-04]])"
      ]
     },
     "execution_count": 23,
     "metadata": {},
     "output_type": "execute_result"
    }
   ],
   "source": [
    "Xt = X.transpose()\n",
    "rev = np.linalg.inv(Xt.dot(X))\n",
    "w1 = rev.dot(Xt)\n",
    "w = np.dot(w1, y)\n",
    "w"
   ]
  },
  {
   "cell_type": "code",
   "execution_count": 25,
   "metadata": {},
   "outputs": [
    {
     "data": {
      "image/png": "[encoded data removed]",
      "text/plain": [
       "<Figure size 432x288 with 1 Axes>"
      ]
     },
     "metadata": {
      "needs_background": "light"
     },
     "output_type": "display_data"
    }
   ],
   "source": [
    "plots = np.array([[28540, 137], [40133, 135], [39900, 127], [42050, 118], [43220, 118], [39565, 117], [40400, 117], [54506, 114]])\n",
    "\n",
    "plt.scatter(plots[:,0], plots[:, 1])\n",
    "plt.xlabel(\"Yearly Tuition\")\n",
    "plt.ylabel(\"Mid-Career Salary\")\n",
    "\n",
    "x = np.linspace(0,60000,100)\n",
    "Y = (-0.000904717354)*x+160.003922\n",
    "plt.plot(x, Y, '-r', label='y=2x+1')\n",
    "\n",
    "plt.show()"
   ]
  },
  {
   "cell_type": "code",
   "execution_count": 26,
   "metadata": {},
   "outputs": [
    {
     "data": {
      "text/plain": [
       "matrix([[ -2.81671161],\n",
       "        [-11.3050999 ],\n",
       "        [ -3.09430075],\n",
       "        [  3.96055693],\n",
       "        [  2.90203763],\n",
       "        [  7.20877956],\n",
       "        [  6.45334057],\n",
       "        [ -3.30860243]])"
      ]
     },
     "execution_count": 26,
     "metadata": {},
     "output_type": "execute_result"
    }
   ],
   "source": [
    "a = X.dot(w)\n",
    "b = a - y\n",
    "b"
   ]
  },
  {
   "cell_type": "code",
   "execution_count": 27,
   "metadata": {},
   "outputs": [
    {
     "data": {
      "text/plain": [
       "34.24757950704334"
      ]
     },
     "execution_count": 27,
     "metadata": {},
     "output_type": "execute_result"
    }
   ],
   "source": [
    "barray = b.tolist()\n",
    "sumz = 0\n",
    "for i in barray:\n",
    "    sumz += i[0]**2\n",
    "rss = sumz / 8\n",
    "rss"
   ]
  },
  {
   "cell_type": "code",
   "execution_count": 28,
   "metadata": {},
   "outputs": [
    {
     "data": {
      "text/plain": [
       "558.875"
      ]
     },
     "execution_count": 28,
     "metadata": {},
     "output_type": "execute_result"
    }
   ],
   "source": [
    "salary = [137, 135, 127, 118, 118, 117, 117, 114]\n",
    "mean = sum(salary) / len(salary)\n",
    "tss = 0 \n",
    "for i in salary:\n",
    "    tss += (i - mean) ** 2\n",
    "tss"
   ]
  },
  {
   "cell_type": "code",
   "execution_count": 29,
   "metadata": {},
   "outputs": [
    {
     "data": {
      "text/plain": [
       "0.938720501888538"
      ]
     },
     "execution_count": 29,
     "metadata": {},
     "output_type": "execute_result"
    }
   ],
   "source": [
    "r2 = 1 - (rss / tss)\n",
    "r2"
   ]
  },
  {
   "cell_type": "code",
   "execution_count": 31,
   "metadata": {},
   "outputs": [
    {
     "data": {
      "text/plain": [
       "123.81522783999999"
      ]
     },
     "execution_count": 31,
     "metadata": {},
     "output_type": "execute_result"
    }
   ],
   "source": [
    "ff = (-0.000904717354)*40000+160.003922\n",
    "ff"
   ]
  },
  {
   "cell_type": "code",
   "execution_count": null,
   "metadata": {},
   "outputs": [],
   "source": []
  }
 ],
 "metadata": {
  "kernelspec": {
   "display_name": "Python 3",
   "language": "python",
   "name": "python3"
  },
  "language_info": {
   "codemirror_mode": {
    "name": "ipython",
    "version": 3
   },
   "file_extension": ".py",
   "mimetype": "text/x-python",
   "name": "python",
   "nbconvert_exporter": "python",
   "pygments_lexer": "ipython3",
   "version": "3.7.4"
  }
 },
 "nbformat": 4,
 "nbformat_minor": 2
}
